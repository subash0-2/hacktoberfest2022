{
 "cells": [
  {
   "cell_type": "code",
   "execution_count": 1,
   "metadata": {},
   "outputs": [
    {
     "name": "stdout",
     "output_type": "stream",
     "text": [
      "my name is subash\n"
     ]
    }
   ],
   "source": [
    "def subash():\n",
    "    print(\"my name is subash\")\n",
    "subash()"
   ]
  },
  {
   "cell_type": "code",
   "execution_count": 5,
   "metadata": {},
   "outputs": [
    {
     "name": "stdout",
     "output_type": "stream",
     "text": [
      "Arithmetic Operations\n",
      "1. Addition\n",
      "2. Subtraction\n",
      "3. Multiplication\n",
      "0. Exit\n",
      "The result is : 11\n",
      "Arithmetic Operations\n",
      "1. Addition\n",
      "2. Subtraction\n",
      "3. Multiplication\n",
      "0. Exit\n"
     ]
    }
   ],
   "source": [
    "def add(a, b):\n",
    "    return a + b\n",
    "\n",
    "def subtract(a, b):\n",
    "    return a - b\n",
    "\n",
    "def multiply(a, b):\n",
    "    return a * b\n",
    "\n",
    "def getArithmeticOperation(operation):\n",
    "    if operation==1:\n",
    "        return add\n",
    "    elif operation==2:\n",
    "        return subtract\n",
    "    elif operation==3:\n",
    "        return multiply\n",
    "\n",
    "while True:\n",
    "    print('Arithmetic Operations')\n",
    "    print('1. Addition')\n",
    "    print('2. Subtraction')\n",
    "    print('3. Multiplication')\n",
    "    print('0. Exit')\n",
    "    operation = int(input('Enter the arithmetic operation : '))\n",
    "    if(operation==0):\n",
    "        break\n",
    "    func = getArithmeticOperation(operation)\n",
    "    a = int(input('Enter a : '))\n",
    "    b = int(input('Enter b : '))\n",
    "    result = func(a, b)\n",
    "    print('The result is :', result)"
   ]
  },
  {
   "cell_type": "code",
   "execution_count": 12,
   "metadata": {},
   "outputs": [
    {
     "data": {
      "text/plain": [
       "50"
      ]
     },
     "execution_count": 12,
     "metadata": {},
     "output_type": "execute_result"
    }
   ],
   "source": [
    "# Given two integer numbers return their product only if the product is greater than 1000, else return their sum.\n",
    "def multiplication(num1,num2):\n",
    "    multiply=num1*num2\n",
    "    add=num1+num2\n",
    "    if multiply>=1000:\n",
    "        return multiply\n",
    "    else:\n",
    "        return add\n",
    "num1=int(input(\"enter the num1 : \"))\n",
    "num2=int(input(\"enter the num2 : \"))\n",
    "multiplication(num1,num2)"
   ]
  },
  {
   "cell_type": "code",
   "execution_count": 26,
   "metadata": {},
   "outputs": [
    {
     "name": "stdout",
     "output_type": "stream",
     "text": [
      "0\n",
      "1\n",
      "3\n",
      "6\n",
      "10\n"
     ]
    }
   ],
   "source": [
    "# Write a program to iterate the first 10 numbers and in each iteration, print the sum of the current and previous number.\n",
    "def iter(number):\n",
    "    sum=0\n",
    "    for i in range(number):\n",
    "        sum=sum+i\n",
    "        print(sum)\n",
    "numbers=int(input(\"enter the number you want add of : \"))\n",
    "iter(numbers)"
   ]
  },
  {
   "cell_type": "code",
   "execution_count": 41,
   "metadata": {},
   "outputs": [
    {
     "name": "stdout",
     "output_type": "stream",
     "text": [
      "s\n",
      "u\n",
      "b\n",
      "a\n",
      "s\n",
      "h\n"
     ]
    }
   ],
   "source": [
    "# Write a program to accept a string from the user and display characters that are present at an even index number.\n",
    "def string():\n",
    "    str=input(\"enter the string : \")\n",
    "    for str1 in str:\n",
    "        print(str1)\n",
    "string()"
   ]
  },
  {
   "cell_type": "code",
   "execution_count": 42,
   "metadata": {},
   "outputs": [
    {
     "name": "stdout",
     "output_type": "stream",
     "text": [
      "Original String: subash\n",
      "Printing only even index chars\n",
      "index[ 0 ] s\n",
      "index[ 2 ] b\n",
      "index[ 4 ] s\n"
     ]
    }
   ],
   "source": [
    "# accept input string from a user\n",
    "word = input('Enter word ')\n",
    "print(\"Original String:\", word)\n",
    "\n",
    "# get the length of a string\n",
    "size = len(word)\n",
    "\n",
    "# iterate a each character of a string\n",
    "# start: 0 to start with first character\n",
    "# stop: size-1 because index starts with 0\n",
    "# step: 2 to get the characters present at even index like 0, 2, 4\n",
    "print(\"Printing only even index chars\")\n",
    "for i in range(0, size - 1, 2):\n",
    "    print(\"index[\", i, \"]\", word[i])"
   ]
  },
  {
   "cell_type": "code",
   "execution_count": 49,
   "metadata": {},
   "outputs": [
    {
     "name": "stdout",
     "output_type": "stream",
     "text": [
      "sh\n"
     ]
    }
   ],
   "source": [
    "# Write a program to remove characters from a string starting from zero up to n and return a new string.\n",
    "def remove():\n",
    "    string=input(\"enter string\")\n",
    "    print(string[4:])\n",
    "remove()"
   ]
  },
  {
   "cell_type": "code",
   "execution_count": null,
   "metadata": {},
   "outputs": [],
   "source": []
  },
  {
   "cell_type": "code",
   "execution_count": null,
   "metadata": {},
   "outputs": [],
   "source": []
  }
 ],
 "metadata": {
  "interpreter": {
   "hash": "c1bd06013396b2eb88ab024ee3f242c7fbbece00817c1d51e9b2bfe7b300b9cc"
  },
  "kernelspec": {
   "display_name": "Python 3.10.4 ('venv')",
   "language": "python",
   "name": "python3"
  },
  "language_info": {
   "codemirror_mode": {
    "name": "ipython",
    "version": 3
   },
   "file_extension": ".py",
   "mimetype": "text/x-python",
   "name": "python",
   "nbconvert_exporter": "python",
   "pygments_lexer": "ipython3",
   "version": "3.10.4"
  },
  "orig_nbformat": 4
 },
 "nbformat": 4,
 "nbformat_minor": 2
}
